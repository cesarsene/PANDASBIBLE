{
 "cells": [
  {
   "cell_type": "code",
   "execution_count": 2,
   "id": "d59eb958-6927-4169-9189-d25d0930a35a",
   "metadata": {},
   "outputs": [],
   "source": [
    "import pandas as pd\n",
    "import xml.etree.ElementTree as ET\n",
    "import mysql.connector"
   ]
  },
  {
   "cell_type": "code",
   "execution_count": null,
   "id": "fc2f3e8e-7cf4-4ff2-a0d7-552842811e96",
   "metadata": {},
   "outputs": [],
   "source": [
    "# Conectar ao banco de dados MySQL\n",
    "conexao = mysql.connector.connect(\n",
    "    host='localhost',\n",
    "    user='root',\n",
    "    password='Sen3180326#*#',\n",
    "    database='labstag'\n",
    ")\n",
    "\n",
    "cursor = conexao.cursor()\n",
    "print(conexao.is_connected())  # Deve retornar True se a conexão estiver ativa"
   ]
  },
  {
   "cell_type": "code",
   "execution_count": null,
   "id": "38a58bd4-d572-4686-8711-3ff37f8d0353",
   "metadata": {},
   "outputs": [],
   "source": [
    "# Ler o arquivo XML\n",
    "tree = ET.parse(\"biblia.xml\")\n",
    "root = tree.getroot()\n",
    "\n",
    "# Criar lista para armazenar os versículos\n",
    "dados = []"
   ]
  },
  {
   "cell_type": "code",
   "execution_count": null,
   "id": "9a9b843e-8840-4fbe-b05c-491cfcdebc15",
   "metadata": {},
   "outputs": [],
   "source": [
    "# Percorrer o XML e extrair informações\n",
    "for book in root.findall(\"book\"):\n",
    "    nome_livro = book.get(\"name\")\n",
    "    abbrev = book.get(\"abbrev\")\n",
    "    total_capitulos = book.get(\"chapters\")\n",
    "\n",
    "    for chapter in book.findall(\"c\"):\n",
    "        cap_num = chapter.get(\"n\")\n",
    "\n",
    "        for verse in chapter.findall(\"v\"):\n",
    "            versiculo_num = verse.get(\"n\")\n",
    "            texto = verse.text\n",
    "\n",
    "            dados.append([nome_livro, abbrev, total_capitulos, cap_num, versiculo_num, texto])"
   ]
  },
  {
   "cell_type": "code",
   "execution_count": null,
   "id": "4be3d935-11f8-48df-8cfd-2956cbb4cb3c",
   "metadata": {},
   "outputs": [],
   "source": [
    "# Criar DataFrame no Pandas\n",
    "df = pd.DataFrame(dados, columns=[\"name\", \"abbrev\", \"chapters\", \"chapter_num\", \"verse_num\", \"text\"])\n",
    "\n",
    "# Verificar se os dados foram carregados corretamente\n",
    "print(df.head())  # Mostrar as primeiras 5 linhas do DataFrame\n",
    "print(f\"Total de linhas: {len(df)}\")"
   ]
  },
  {
   "cell_type": "code",
   "execution_count": null,
   "id": "3807b375-5f29-4383-afb8-0ffa073ca753",
   "metadata": {},
   "outputs": [],
   "source": [
    "# Criar nova tabela no banco de dados (se necessário)\n",
    "cursor.execute(\"\"\"\n",
    "    CREATE TABLE IF NOT EXISTS versiculos (\n",
    "        id INT AUTO_INCREMENT PRIMARY KEY,\n",
    "        name VARCHAR(255),\n",
    "        abbrev VARCHAR(15),\n",
    "        chapters INT,\n",
    "        chapter_num INT,\n",
    "        verse_num INT,\n",
    "        text TEXT\n",
    "    );\n",
    "\"\"\")"
   ]
  },
  {
   "cell_type": "code",
   "execution_count": null,
   "id": "18c1a555-ec83-4870-ba19-6ec8af2c605c",
   "metadata": {},
   "outputs": [],
   "source": [
    "# Inserir os dados no MySQL\n",
    "for _, row in df.iterrows():\n",
    "    cursor.execute(\"\"\"\n",
    "        INSERT INTO versiculos (name, abbrev, chapters, chapter_num, verse_num, text) \n",
    "        VALUES (%s, %s, %s, %s, %s, %s)\n",
    "    \"\"\", tuple(row))"
   ]
  },
  {
   "cell_type": "code",
   "execution_count": null,
   "id": "07d99223-8ee0-483b-b3f2-63dcd6d3ca7f",
   "metadata": {
    "scrolled": true
   },
   "outputs": [],
   "source": [
    "# Criar índices para otimizar buscas\n",
    "cursor.execute(\"CREATE INDEX idx_livro ON versiculos(name);\")\n",
    "cursor.execute(\"CREATE INDEX idx_abbrev ON versiculos(abbrev);\")\n",
    "cursor.execute(\"CREATE INDEX idx_capitulo ON versiculos(chapter_num);\")\n",
    "cursor.execute(\"CREATE INDEX idx_versiculo ON versiculos(verse_num);\")"
   ]
  },
  {
   "cell_type": "code",
   "execution_count": null,
   "id": "46d26391-aa66-4d42-bb77-64b395e59dbf",
   "metadata": {},
   "outputs": [],
   "source": [
    "# Commit e fechar conexão\n",
    "conexao.commit()\n",
    "cursor.close()\n",
    "conexao.close()"
   ]
  },
  {
   "cell_type": "code",
   "execution_count": null,
   "id": "1a6a5de3-2b5a-45fd-8cbf-06b4a0285817",
   "metadata": {},
   "outputs": [],
   "source": []
  },
  {
   "cell_type": "code",
   "execution_count": null,
   "id": "9b837e6d-4e51-4611-9ef2-0eda562675c3",
   "metadata": {},
   "outputs": [],
   "source": []
  }
 ],
 "metadata": {
  "kernelspec": {
   "display_name": "Python 3 (ipykernel)",
   "language": "python",
   "name": "python3"
  },
  "language_info": {
   "codemirror_mode": {
    "name": "ipython",
    "version": 3
   },
   "file_extension": ".py",
   "mimetype": "text/x-python",
   "name": "python",
   "nbconvert_exporter": "python",
   "pygments_lexer": "ipython3",
   "version": "3.13.2"
  }
 },
 "nbformat": 4,
 "nbformat_minor": 5
}
