{
 "cells": [
  {
   "cell_type": "code",
   "execution_count": 1,
   "id": "1b89f25c-2edd-47af-8d1b-8e5c262bcd47",
   "metadata": {},
   "outputs": [],
   "source": [
    "import xml.etree.ElementTree as ET\n",
    "import pandas as pd"
   ]
  },
  {
   "cell_type": "code",
   "execution_count": 2,
   "id": "c184e37d-53eb-4158-8d2f-da48379f65c9",
   "metadata": {},
   "outputs": [],
   "source": [
    "# Caminho do XML (pode usar uma lista depois)\n",
    "xml_path = r\"C:\\Users\\Felipe\\Desktop\\Banco de Dados\\biblia\\xml\\aa.min.xml\""
   ]
  },
  {
   "cell_type": "code",
   "execution_count": 3,
   "id": "f1fd2757-a751-43f5-a71c-a778b3f51ed6",
   "metadata": {},
   "outputs": [],
   "source": [
    "# Parse do XML\n",
    "tree = ET.parse(xml_path)\n",
    "root = tree.getroot()\n",
    "\n",
    "# Lista para armazenar os dados\n",
    "data = []\n",
    "\n",
    "# Loop pelos livros\n",
    "for book in root.findall(\"book\"):\n",
    "    book_name = book.get(\"name\")\n",
    "    abbrev = book.get(\"abbrev\")\n",
    "\n",
    "    # Loop pelos capítulos\n",
    "    for chapter in book.findall(\"c\"):\n",
    "        chapter_num = chapter.get(\"n\")\n",
    "\n",
    "        # Loop pelos versículos\n",
    "        for verse in chapter.findall(\"v\"):\n",
    "            verse_num = verse.get(\"n\")\n",
    "            verse_text = verse.text\n",
    "\n",
    "            data.append({\n",
    "                \"livro\": book_name,\n",
    "                \"abrev\": abbrev,\n",
    "                \"capitulo\": int(chapter_num),\n",
    "                \"versiculo\": int(verse_num),\n",
    "                \"texto\": verse_text\n",
    "            })"
   ]
  },
  {
   "cell_type": "code",
   "execution_count": 4,
   "id": "139513bb-2afb-469f-83aa-6d60a97681bc",
   "metadata": {},
   "outputs": [
    {
     "name": "stdout",
     "output_type": "stream",
     "text": [
      "     livro abrev  capitulo  versiculo  \\\n",
      "0  Gênesis    gn         1          1   \n",
      "1  Gênesis    gn         1          2   \n",
      "2  Gênesis    gn         1          3   \n",
      "3  Gênesis    gn         1          4   \n",
      "4  Gênesis    gn         1          5   \n",
      "\n",
      "                                               texto  \n",
      "0         No princípio criou Deus os céus e a terra.  \n",
      "1  A terra era sem forma e vazia; e havia trevas ...  \n",
      "2                 Disse Deus: haja luz. E houve luz.  \n",
      "3  Viu Deus que a luz era boa; e fez separação en...  \n",
      "4  E Deus chamou à luz dia, e às trevas noite. E ...  \n"
     ]
    }
   ],
   "source": [
    "# Criar o DataFrame\n",
    "df = pd.DataFrame(data)\n",
    "\n",
    "# Exibir os primeiros versículos\n",
    "print(df.head())"
   ]
  },
  {
   "cell_type": "code",
   "execution_count": 8,
   "id": "3c1b0f57-9144-4eab-9892-ada2fb3fe694",
   "metadata": {},
   "outputs": [],
   "source": [
    "import xml.etree.ElementTree as ET\n",
    "import pandas as pd"
   ]
  },
  {
   "cell_type": "code",
   "execution_count": 9,
   "id": "aee44a48-9590-47a6-8880-ade25ea6b902",
   "metadata": {},
   "outputs": [],
   "source": [
    "# Lista de arquivos XML com o nome da versão\n",
    "xml_files = [\n",
    "    (\"aa\", r\"C:\\Users\\Felipe\\Desktop\\Banco de Dados\\biblia\\xml\\aa.min.xml\"),\n",
    "    (\"acf\", r\"C:\\Users\\Felipe\\Desktop\\Banco de Dados\\biblia\\xml\\acf.min.xml\"),\n",
    "    (\"nvi\", r\"C:\\Users\\Felipe\\Desktop\\Banco de Dados\\biblia\\xml\\nvi.min.xml\")\n",
    "]"
   ]
  },
  {
   "cell_type": "code",
   "execution_count": 10,
   "id": "4fa1968f-6368-4a63-90bf-77a8d810dbf5",
   "metadata": {},
   "outputs": [],
   "source": [
    "# Lista para armazenar os DataFrames de cada versão\n",
    "dfs = []"
   ]
  },
  {
   "cell_type": "code",
   "execution_count": 11,
   "id": "5ee673ee-5c55-4fb5-90dc-8961bc9373a4",
   "metadata": {},
   "outputs": [],
   "source": [
    "# Carregar todos os XMLs no pandas\n",
    "for versao, xml_path in xml_files:\n",
    "    tree = ET.parse(xml_path)\n",
    "    root = tree.getroot()\n",
    "    data = []\n",
    "\n",
    "    for book in root.findall(\"book\"):\n",
    "        livro = book.get(\"name\")\n",
    "        abrev = book.get(\"abbrev\")\n",
    "\n",
    "        for chapter in book.findall(\"c\"):\n",
    "            capitulo = int(chapter.get(\"n\"))\n",
    "\n",
    "            for verse in chapter.findall(\"v\"):\n",
    "                versiculo = int(verse.get(\"n\"))\n",
    "                texto = verse.text\n",
    "\n",
    "                data.append({\n",
    "                    \"versao\": versao.lower(),\n",
    "                    \"livro\": livro,\n",
    "                    \"abrev\": abrev,\n",
    "                    \"capitulo\": capitulo,\n",
    "                    \"versiculo\": versiculo,\n",
    "                    \"texto\": texto\n",
    "                })\n",
    "\n",
    "    df = pd.DataFrame(data)\n",
    "    dfs.append(df)"
   ]
  },
  {
   "cell_type": "code",
   "execution_count": 12,
   "id": "ee1e6b4b-e6fc-4d8f-8342-9678ea876e7f",
   "metadata": {},
   "outputs": [
    {
     "name": "stdout",
     "output_type": "stream",
     "text": [
      "  versao    livro abrev  capitulo  versiculo  \\\n",
      "0     aa  Gênesis    gn         1          1   \n",
      "1     aa  Gênesis    gn         1          2   \n",
      "2     aa  Gênesis    gn         1          3   \n",
      "3     aa  Gênesis    gn         1          4   \n",
      "4     aa  Gênesis    gn         1          5   \n",
      "\n",
      "                                               texto  \n",
      "0         No princípio criou Deus os céus e a terra.  \n",
      "1  A terra era sem forma e vazia; e havia trevas ...  \n",
      "2                 Disse Deus: haja luz. E houve luz.  \n",
      "3  Viu Deus que a luz era boa; e fez separação en...  \n",
      "4  E Deus chamou à luz dia, e às trevas noite. E ...  \n"
     ]
    }
   ],
   "source": [
    "# Unir todos os DataFrames em um só\n",
    "df_biblia = pd.concat(dfs, ignore_index=True)\n",
    "\n",
    "# Visualização rápida\n",
    "print(df_biblia.head())"
   ]
  },
  {
   "cell_type": "code",
   "execution_count": 20,
   "id": "acd88771-1623-48f1-bd40-45c1cb83d8d3",
   "metadata": {
    "scrolled": true
   },
   "outputs": [],
   "source": [
    "def buscar_versiculo(versao, livro, capitulo, versiculo):\n",
    "    resultado = df_biblia[\n",
    "        (df_biblia[\"versao\"].str.lower() == versao.lower()) &\n",
    "        (df_biblia[\"livro\"].str.lower() == livro.lower()) &\n",
    "        (df_biblia[\"capitulo\"] == capitulo) &\n",
    "        (df_biblia[\"versiculo\"] == versiculo)\n",
    "    ]\n",
    "\n",
    "    if resultado.empty:\n",
    "        print(\"Versículo não encontrado.\")\n",
    "    else:\n",
    "        print(f\"\\n{livro} {capitulo}:{versiculo} ({versao.upper()})\")\n",
    "        print(resultado.iloc[0][\"texto\"])\n"
   ]
  },
  {
   "cell_type": "code",
   "execution_count": 21,
   "id": "8f057b54-ce1a-420f-8f44-bf4d8fa6053c",
   "metadata": {},
   "outputs": [
    {
     "name": "stdout",
     "output_type": "stream",
     "text": [
      "\n",
      "Judas 1:21 (ACF)\n",
      "Conservai-vos a vós mesmos no amor de Deus, esperando a misericórdia de nosso Senhor Jesus Cristo para a vida eterna.\n"
     ]
    }
   ],
   "source": [
    "buscar_versiculo(\"acf\", \"Judas\", 1, 21)"
   ]
  },
  {
   "cell_type": "code",
   "execution_count": 24,
   "id": "d81b1449-ce59-4569-a6be-a625c82f4c3f",
   "metadata": {},
   "outputs": [
    {
     "name": "stdout",
     "output_type": "stream",
     "text": [
      "\n",
      "Apocalipse 12:11 (AA)\n",
      "E eles o venceram pelo sangue do Cordeiro e pela palavra do seu testemunho; e não amaram as suas vidas até a morte.\n"
     ]
    }
   ],
   "source": [
    "buscar_versiculo(\"aa\", \"Apocalipse\", 12, 11)"
   ]
  },
  {
   "cell_type": "code",
   "execution_count": 25,
   "id": "ec3347e5-6cba-4eeb-85d9-fdc0ab4a1317",
   "metadata": {},
   "outputs": [
    {
     "name": "stdout",
     "output_type": "stream",
     "text": [
      "\n",
      "Romanos 8:1 (NVI)\n",
      "Portanto, agora já não há condenação para os que estão em Cristo Jesus,\n"
     ]
    }
   ],
   "source": [
    "buscar_versiculo(\"nvi\", \"Romanos\", 8, 1)"
   ]
  },
  {
   "cell_type": "code",
   "execution_count": 30,
   "id": "e7e61b79-708b-46d5-84bb-edcb911015d0",
   "metadata": {},
   "outputs": [],
   "source": [
    "def buscar_capitulo(versao, livro, capitulo):\n",
    "    resultado = df_biblia[\n",
    "        (df_biblia[\"versao\"].str.lower() == versao.lower()) &\n",
    "        (df_biblia[\"livro\"].str.lower() == livro.lower()) &\n",
    "        (df_biblia[\"capitulo\"] == capitulo)\n",
    "    ].sort_values(\"versiculo\")\n",
    "\n",
    "    if resultado.empty:\n",
    "        print(\"Capítulo não encontrado.\")\n",
    "    else:\n",
    "        print(f\"\\n{livro} {capitulo} ({versao.upper()})\\n\")\n",
    "        for _, row in resultado.iterrows():\n",
    "            print(f\"{row['versiculo']} - {row['texto']}\")"
   ]
  },
  {
   "cell_type": "code",
   "execution_count": 31,
   "id": "519926cc-abca-4ea8-8522-a3f55da64ceb",
   "metadata": {},
   "outputs": [
    {
     "name": "stdout",
     "output_type": "stream",
     "text": [
      "\n",
      "Judas 1 (NVI)\n",
      "\n",
      "1 - Judas, servo de Jesus Cristo e irmão de Tiago, aos que foram chamados, amados por Deus Pai e guardados por Jesus Cristo:\n",
      "2 - Misericórdia, paz e amor lhes sejam multiplicados.\n",
      "3 - Amados, embora estivesse muito ansioso por lhes escrever acerca da salvação que compartilhamos, senti que era necessário escrever-lhes insistindo que batalhassem pela fé uma vez por todas confiada aos santos.\n",
      "4 - Pois certos homens, cuja condenação já estava sentenciada há muito tempo, infiltraram-se dissimuladamente no meio de vocês. Estes são ímpios, e transformam a graça de nosso Deus em libertinagem e negam Jesus Cristo, nosso único Soberano e Senhor.\n",
      "5 - Embora vocês já tenham conhecimento de tudo isso, quero lembrar-lhes que o Senhor libertou um povo do Egito mas, posteriormente, destruiu os que não creram.\n",
      "6 - E aos anjos que não conservaram suas posições de autoridade mas abandonaram sua própria morada, ele os tem guardado em trevas, presos com correntes eternas para o juízo do grande Dia.\n",
      "7 - De modo semelhante a estes, Sodoma e Gomorra e as cidades em redor se entregaram à imoralidade e a relações sexuais antinaturais. Estando sob o castigo do fogo eterno, elas servem de exemplo.\n",
      "8 - Da mesma forma, estes sonhadores contaminam seus próprios corpos, rejeitam as autoridades e difamam os seres celestiais.\n",
      "9 - Contudo, nem mesmo o arcanjo Miguel, quando estava disputando com o diabo acerca do corpo de Moisés, ousou fazer acusação injuriosa contra ele, mas disse: \"O Senhor o repreenda! \"\n",
      "10 - Todavia, esses tais difamam tudo o que não entendem; e as coisas que entendem por instinto, como animais irracionais, nessas mesmas coisas se corrompem.\n",
      "11 - Ai deles! Pois seguiram o caminho de Caim, buscando o lucro, caíram no erro de Balaão e foram destruídos na rebelião de Corá.\n",
      "12 - Esses homens são rochas submersas nas festas de fraternidade que vocês fazem, comendo com vocês de maneira desonrosa. São pastores que só cuidam de si mesmos. São nuvens sem água, impelidas pelo vento; árvores de outono, sem frutos, duas vezes mortas, arrancadas pela raiz.\n",
      "13 - São ondas bravias do mar, espumando seus próprios atos vergonhosos; estrelas errantes, para as quais estão reservadas para sempre as mais densas trevas.\n",
      "14 - Enoque, o sétimo a partir de Adão, profetizou acerca deles: \"Vejam, o Senhor vem com milhares de milhares de seus santos,\n",
      "15 - para julgar a todos e convencer a todos os ímpios a respeito de todos os atos de impiedade que eles cometeram impiamente e acerca de todas as palavras insolentes que os pecadores ímpios falaram contra ele\".\n",
      "16 - Essas pessoas vivem se queixando e são descontentes com a sua sorte, seguem os seus próprios desejos impuros; são cheias de si e adulam os outros por interesse.\n",
      "17 - Todavia, amados, lembrem-se do que foi predito pelos apóstolos de nosso Senhor Jesus Cristo.\n",
      "18 - Eles diziam a vocês: \"Nos últimos tempos haverá zombadores que seguirão os seus próprios desejos ímpios\".\n",
      "19 - Estes são os que causam divisões entre vocês, os quais seguem a tendência da sua própria alma e não têm o Espírito.\n",
      "20 - Edifiquem-se, porém, amados, na santíssima fé que vocês têm, orando no Espírito Santo.\n",
      "21 - Mantenham-se no amor de Deus, enquanto esperam que a misericórdia de nosso Senhor Jesus Cristo os leve para a vida eterna.\n",
      "22 - Tenham compaixão daqueles que duvidam;\n",
      "23 - a outros, salvem-nos, arrebatando-os do fogo; a outros ainda, mostrem misericórdia com temor, odiando até a roupa contaminada pela carne.\n",
      "24 - Àquele que é poderoso para impedi-los de cair e para apresentá-los diante da sua glória sem mácula e com grande alegria,\n",
      "25 - ao único Deus, nosso Salvador, sejam glória, majestade, poder e autoridade, mediante Jesus Cristo, nosso Senhor, antes de todos os tempos, agora e para todo o sempre! Amém.\n"
     ]
    }
   ],
   "source": [
    "buscar_capitulo(\"nvi\", \"Judas\", 1)"
   ]
  },
  {
   "cell_type": "code",
   "execution_count": 32,
   "id": "7315f583-95cd-486a-bd6b-2fe511965afe",
   "metadata": {},
   "outputs": [
    {
     "name": "stdout",
     "output_type": "stream",
     "text": [
      "\n",
      "Romanos 8 (AA)\n",
      "\n",
      "1 - Portanto, agora nenhuma condenação há para os que estão em Cristo Jesus.\n",
      "2 - Porque a lei do Espírito da vida, em Cristo Jesus, te livrou da lei do pecado e da morte.\n",
      "3 - Porquanto o que era impossível à lei, visto que se achava fraca pela carne, Deus enviando o seu próprio Filho em semelhança da carne do pecado, e por causa do pecado, na carne condenou o pecado.\n",
      "4 - para que a justa exigência da lei se cumprisse em nós, que não andamos segundo a carne, mas segundo o Espírito.\n",
      "5 - Pois os que são segundo a carne inclinam-se para as coisas da carne; mas os que são segundo o Espírito para as coisas do Espírito.\n",
      "6 - Porque a inclinação da carne é morte; mas a inclinação do Espírito é vida e paz.\n",
      "7 - Porquanto a inclinação da carne é inimizade contra Deus, pois não é sujeita à lei de Deus, nem em verdade o pode ser;\n",
      "8 - e os que estão na carne não podem agradar a Deus.\n",
      "9 - Vós, porém, não estais na carne, mas no Espírito, se é que o Espírito de Deus habita em vós. Mas, se alguém não tem o Espírito de Cristo, esse tal não é dele.\n",
      "10 - Ora, se Cristo está em vós, o corpo, na verdade, está morto por causa do pecado, mas o espírito vive por causa da justiça.\n",
      "11 - E, se o Espírito daquele que dos mortos ressuscitou a Jesus habita em vós, aquele que dos mortos ressuscitou a Cristo Jesus há de vivificar também os vossos corpos mortais, pelo seu Espírito que em vós habita.\n",
      "12 - Portanto, irmãos, somos devedores, não à carne para vivermos segundo a carne;\n",
      "13 - porque se viverdes segundo a carne, haveis de morrer; mas, se pelo Espírito mortificardes as obras do corpo, vivereis.\n",
      "14 - Pois todos os que são guiados pelo Espírito de Deus, esses são filhos de Deus.\n",
      "15 - Porque não recebestes o espírito de escravidão, para outra vez estardes com temor, mas recebestes o espírito de adoção, pelo qual clamamos: Aba, Pai!\n",
      "16 - O Espírito mesmo testifica com o nosso espírito que somos filhos de Deus;\n",
      "17 - e, se filhos, também herdeiros, herdeiros de Deus e co-herdeiros de Cristo; se é certo que com ele padecemos, para que também com ele sejamos glorificados.\n",
      "18 - Pois tenho para mim que as aflições deste tempo presente não se podem comparar com a glória que em nós há de ser revelada.\n",
      "19 - Porque a criação aguarda com ardente expectativa a revelação dos filhos de Deus.\n",
      "20 - Porquanto a criação ficou sujeita à vaidade, não por sua vontade, mas por causa daquele que a sujeitou,\n",
      "21 - na esperança de que também a própria criação há de ser liberta do cativeiro da corrupção, para a liberdade da glória dos filhos de Deus.\n",
      "22 - Porque sabemos que toda a criação, conjuntamente, geme e está com dores de parto até agora;\n",
      "23 - e não só ela, mas até nós, que temos as primícias do Espírito, também gememos em nós mesmos, aguardando a nossa adoração, a saber, a redenção do nosso corpo.\n",
      "24 - Porque na esperança fomos salvos. Ora, a esperança que se vê não é esperança; pois o que alguém vê, como o espera?\n",
      "25 - Mas, se esperamos o que não vemos, com paciência o aguardamos.\n",
      "26 - Do mesmo modo também o Espírito nos ajuda na fraqueza; porque não sabemos o que havemos de pedir como convém, mas o Espírito mesmo intercede por nós com gemidos inexprimíveis.\n",
      "27 - E aquele que esquadrinha os corações sabe qual é a intenção do Espírito: que ele, segundo a vontade de Deus, intercede pelos santos.\n",
      "28 - E sabemos que todas as coisas concorrem para o bem daqueles que amam a Deus, daqueles que são chamados segundo o seu propósito.\n",
      "29 - Porque os que dantes conheceu, também os predestinou para serem conformes à imagem de seu Filho, a fim de que ele seja o primogênito entre muitos irmãos;\n",
      "30 - e aos que predestinou, a estes também chamou; e aos que chamou, a estes também justificou; e aos que justificou, a estes também glorificou.\n",
      "31 - Que diremos, pois, a estas coisas? Se Deus é por nós, quem será contra nós?\n",
      "32 - Aquele que nem mesmo a seu próprio Filho poupou, antes o entregou por todos nós, como não nos dará também com ele todas as coisas?\n",
      "33 - Quem intentará acusação contra os escolhidos de Deus? É Deus quem os justifica;\n",
      "34 - Quem os condenará? Cristo Jesus é quem morreu, ou antes quem ressurgiu dentre os mortos, o qual está à direita de Deus, e também intercede por nós;\n",
      "35 - quem nos separará do amor de Cristo? a tribulação, ou a angústia, ou a perseguição, ou a fome, ou a nudez, ou o perigo, ou a espada?\n",
      "36 - Como está escrito: Por amor de ti somos entregues à morte o dia todo; fomos considerados como ovelhas para o matadouro.\n",
      "37 - Mas em todas estas coisas somos mais que vencedores, por aquele que nos amou.\n",
      "38 - Porque estou certo de que, nem a morte, nem a vida, nem anjos, nem principados, nem coisas presentes, nem futuras, nem potestades,\n",
      "39 - nem a altura, nem a profundidade, nem qualquer outra criatura nos poderá separar do amor de Deus, que está em Cristo Jesus nosso Senhor.\n"
     ]
    }
   ],
   "source": [
    "buscar_capitulo(\"aa\", \"Romanos\", 8)"
   ]
  },
  {
   "cell_type": "code",
   "execution_count": 33,
   "id": "f8fbfd77-899d-491b-9a13-a364c059e4b6",
   "metadata": {},
   "outputs": [
    {
     "name": "stdout",
     "output_type": "stream",
     "text": [
      "\n",
      "Salmos 119 (ACF)\n",
      "\n",
      "1 - Bem-aventurados os retos em seus caminhos, que andam na lei do Senhor.\n",
      "2 - Bem-aventurados os que guardam os seus testemunhos, e que o buscam com todo o coração.\n",
      "3 - E não praticam iniqüidade, mas andam nos seus caminhos.\n",
      "4 - Tu ordenaste os teus mandamentos, para que diligentemente os observássemos.\n",
      "5 - Quem dera que os meus caminhos fossem dirigidos a observar os teus mandamentos.\n",
      "6 - Então não ficaria confundido, atentando eu para todos os teus mandamentos.\n",
      "7 - Louvar-te-ei com retidão de coração quando tiver aprendido os teus justos juízos.\n",
      "8 - Observarei os teus estatutos; não me desampares totalmente.\n",
      "9 - Com que purificará o jovem o seu caminho? Observando-o conforme a tua palavra.\n",
      "10 - Com todo o meu coração te busquei; não me deixes desviar dos teus mandamentos.\n",
      "11 - Escondi a tua palavra no meu coração, para eu não pecar contra ti.\n",
      "12 - Bendito és tu, ó Senhor; ensina-me os teus estatutos.\n",
      "13 - Com os meus lábios declarei todos os juízos da tua boca.\n",
      "14 - Folguei tanto no caminho dos teus testemunhos, como em todas as riquezas.\n",
      "15 - Meditarei nos teus preceitos, e terei respeito aos teus caminhos.\n",
      "16 - Recrear-me-ei nos teus estatutos; não me esquecerei da tua palavra.\n",
      "17 - Faze bem ao teu servo, para que viva e observe a tua palavra.\n",
      "18 - Abre tu os meus olhos, para que veja as maravilhas da tua lei.\n",
      "19 - Sou peregrino na terra; não escondas de mim os teus mandamentos.\n",
      "20 - A minha alma está quebrantada de desejar os teus juízos em todo o tempo.\n",
      "21 - Tu repreendeste asperamente os soberbos que são amaldiçoa-dos, que se desviam dos teus mandamentos.\n",
      "22 - Tira de sobre mim o opróbrio e o desprezo, pois guardei os teus testemunhos.\n",
      "23 - Príncipes também se assentaram, e falaram contra mim, mas o teu servo meditou nos teus estatutos.\n",
      "24 - Também os teus testemunhos são o meu prazer e os meus conselheiros.\n",
      "25 - A minha alma está pegada ao pó; vivifica-me segundo a tua palavra.\n",
      "26 - Eu te contei os meus caminhos, e tu me ouviste; ensina-me os teus estatutos.\n",
      "27 - Faze-me entender o caminho dos teus preceitos; assim falarei das tuas maravilhas.\n",
      "28 - A minha alma consome-se de tristeza; fortalece-me segundo a tua palavra.\n",
      "29 - Desvia de mim o caminho da falsidade, e concede-me piedosamente a tua lei.\n",
      "30 - Escolhi o caminho da verdade; propus-me seguir os teus juízos.\n",
      "31 - Apego-me aos teus testemunhos; ó Senhor, não me confundas.\n",
      "32 - Correrei pelo caminho dos teus mandamentos, quando dilatares o meu coração.\n",
      "33 - Ensina-me, ó Senhor, o caminho dos teus estatutos, e guardá-lo-ei até o fim.\n",
      "34 - Dá-me entendimento, e guardarei a tua lei, e observá-la-ei de todo o meu coração.\n",
      "35 - Faze-me andar na vereda dos teus mandamentos, porque nela tenho prazer.\n",
      "36 - Inclina o meu coração aos teus testemunhos, e não à cobiça.\n",
      "37 - Desvia os meus olhos de contemplarem a vaidade, e vivifica-me no teu caminho.\n",
      "38 - Confirma a tua palavra ao teu servo, que é dedicado ao teu temor.\n",
      "39 - Desvia de mim o opróbrio que temo, pois os teus juízos são bons.\n",
      "40 - Eis que tenho desejado os teus preceitos; vivifica-me na tua justiça.\n",
      "41 - Venham sobre mim também as tuas misericórdias, ó Senhor, e a tua salvação segundo a tua palavra.\n",
      "42 - Assim terei que responder ao que me afronta, pois confio na tua palavra.\n",
      "43 - E não tires totalmente a palavra de verdade da minha boca, pois tenho esperado nos teus juízos.\n",
      "44 - Assim observarei de contínuo a tua lei para sempre e eternamente.\n",
      "45 - E andarei em liberdade; pois busco os teus preceitos.\n",
      "46 - Também falarei dos teus testemunhos perante os reis, e não me envergonharei.\n",
      "47 - E recrear-me-ei em teus mandamentos, que tenho amado.\n",
      "48 - Também levantarei as minhas mãos para os teus mandamentos, que amei, e meditarei nos teus estatutos.\n",
      "49 - Lembra-te da palavra dada ao teu servo, na qual me fizeste esperar.\n",
      "50 - Isto é a minha consolação na minha aflição, porque a tua palavra me vivificou.\n",
      "51 - Os soberbos zombaram grandemente de mim; contudo não me desviei da tua lei.\n",
      "52 - Lembrei-me dos teus juízos antiqüíssimos, ó Senhor, e assim me consolei.\n",
      "53 - Grande indignação se apoderou de mim por causa dos ímpios que abandonam a tua lei.\n",
      "54 - Os teus estatutos têm sido os meus cânticos na casa da minha peregrinação.\n",
      "55 - Lembrei-me do teu nome, ó Senhor, de noite, e observei a tua lei.\n",
      "56 - Isto fiz eu, porque guardei os teus mandamentos.\n",
      "57 - O Senhor é a minha porção; eu disse que observaria as tuas palavras.\n",
      "58 - Roguei deveras o teu favor com todo o meu coração; tem piedade de mim, segundo a tua palavra.\n",
      "59 - Considerei os meus caminhos, e voltei os meus pés para os teus testemunhos.\n",
      "60 - Apressei-me, e não me detive, a observar os teus mandamentos.\n",
      "61 - Bandos de ímpios me despojaram, mas eu não me esqueci da tua lei.\n",
      "62 - À meia-noite me levantarei para te louvar, pelos teus justos juízos.\n",
      "63 - Companheiro sou de todos os que te temem e dos que guardam os teus preceitos.\n",
      "64 - A terra, ó Senhor, está cheia da tua benignidade; ensina-me os teus estatutos.\n",
      "65 - Fizeste bem ao teu servo, Senhor, segundo a tua palavra.\n",
      "66 - Ensina-me bom juízo e ciência, pois cri nos teus mandamentos.\n",
      "67 - Antes de ser afligido andava errado; mas agora tenho guardado a tua palavra.\n",
      "68 - Tu és bom e fazes bem; ensina-me os teus estatutos.\n",
      "69 - Os soberbos forjaram mentiras contra mim; mas eu com todo o meu coração guardarei os teus preceitos.\n",
      "70 - Engrossa-se-lhes o coração como gordura, mas eu me recreio na tua lei.\n",
      "71 - Foi-me bom ter sido afligido, para que aprendesse os teus estatutos.\n",
      "72 - Melhor é para mim a lei da tua boca do que milhares de ouro ou prata.\n",
      "73 - As tuas mãos me fizeram e me formaram; dá-me inteligência para entender os teus mandamentos.\n",
      "74 - Os que te temem alegraram-se quando me viram, porque tenho esperado na tua palavra.\n",
      "75 - Bem sei eu, ó Senhor, que os teus juízos são justos, e que segundo a tua fidelidade me afligiste.\n",
      "76 - Sirva pois a tua benignidade para me consolar, segundo a palavra que deste ao teu servo.\n",
      "77 - Venham sobre mim as tuas misericórdias, para que viva, pois a tua lei é a minha delícia.\n",
      "78 - Confundam-se os soberbos, pois me trataram duma maneira perversa, sem causa; mas eu meditarei nos teus preceitos.\n",
      "79 - Voltem-se para mim os que te temem, e aqueles que têm conhecido os teus testemunhos.\n",
      "80 - Seja reto o meu coração nos teus estatutos, para que não seja confundido.\n",
      "81 - Desfalece a minha alma pela tua salvação, mas espero na tua palavra.\n",
      "82 - Os meus olhos desfalecem pela tua palavra; entrementes dizia: Quando me consolarás tu?\n",
      "83 - Pois estou como odre na fumaça; contudo não me esqueço dos teus estatutos.\n",
      "84 - Quantos serão os dias do teu servo? Quando me farás justiça contra os que me perseguem?\n",
      "85 - Os soberbos me cavaram covas, o que não é conforme a tua lei.\n",
      "86 - Todos os teus mandamentos são verdade. Com mentiras me perseguem; ajuda-me.\n",
      "87 - Quase que me têm consumido sobre a terra, mas eu não deixei os teus preceitos.\n",
      "88 - Vivifica-me segundo a tua benignidade; assim guardarei o testemunho da tua boca.\n",
      "89 - Para sempre, ó Senhor, a tua palavra permanece no céu.\n",
      "90 - A tua fidelidade dura de geração em geração; tu firmaste a terra, e ela permanece firme.\n",
      "91 - Eles continuam até ao dia de hoje, segundo as tuas ordenações; porque todos são teus servos.\n",
      "92 - Se a tua lei não fora toda a minha recreação, há muito que pereceria na minha aflição.\n",
      "93 - Nunca me esquecerei dos teus preceitos; pois por eles me tens vivificado.\n",
      "94 - Sou teu, salva-me; pois tenho buscado os teus preceitos.\n",
      "95 - Os ímpios me esperam para me destruírem, mas eu considerarei os teus testemunhos.\n",
      "96 - Tenho visto fim a toda a perfeição, mas o teu mandamento é amplíssimo.\n",
      "97 - Oh! quanto amo a tua lei! É a minha meditação em todo o dia.\n",
      "98 - Tu, pelos teus mandamentos, me fazes mais sábio do que os meus inimigos; pois estão sempre comigo.\n",
      "99 - Tenho mais entendimento do que todos os meus mestres, porque os teus testemunhos são a minha meditação.\n",
      "100 - Entendo mais do que os antigos; porque guardo os teus preceitos.\n",
      "101 - Desviei os meus pés de todo caminho mau, para guardar a tua palavra.\n",
      "102 - Não me apartei dos teus juízos, pois tu me ensinaste.\n",
      "103 - Oh! quão doces são as tuas palavras ao meu paladar, mais doces do que o mel à minha boca.\n",
      "104 - Pelos teus mandamentos alcancei entendimento; por isso odeio todo falso caminho.\n",
      "105 - Lâmpada para os meus pés é tua palavra, e luz para o meu caminho.\n",
      "106 - Jurei, e o cumprirei, que guardarei os teus justos juízos.\n",
      "107 - Estou aflitíssimo; vivifica-me, ó Senhor, segundo a tua palavra.\n",
      "108 - Aceita, eu te rogo, as oferendas voluntárias da minha boca, ó Senhor; ensina-me os teus juízos.\n",
      "109 - A minha alma está de contínuo nas minhas mãos; todavia não me esqueço da tua lei.\n",
      "110 - Os ímpios me armaram laço; contudo não me desviei dos teus preceitos.\n",
      "111 - Os teus testemunhos tenho eu tomado por herança para sempre, pois são o gozo do meu coração.\n",
      "112 - Inclinei o meu coração a guardar os teus estatutos, para sempre, até ao fim.\n",
      "113 - Odeio os pensamentos vãos, mas amo a tua lei.\n",
      "114 - Tu és o meu refúgio e o meu escudo; espero na tua palavra.\n",
      "115 - Apartai-vos de mim, malfeitores, pois guardarei os mandamentos do meu Deus.\n",
      "116 - Sustenta-me conforme a tua palavra, para que viva, e não me deixes envergonhado da minha esperança.\n",
      "117 - Sustenta-me, e serei salvo, e de contínuo terei respeito aos teus estatutos.\n",
      "118 - Tu tens pisado aos pés todos os que se desviam dos teus estatutos, pois o engano deles é falsidade.\n",
      "119 - Tu tiraste da terra todos os ímpios, como a escória, por isso amo os teus testemunhos.\n",
      "120 - O meu corpo se arrepiou com temor de ti, e temi os teus juízos.\n",
      "121 - Fiz juízo e justiça; não me entregues aos meus opressores.\n",
      "122 - Fica por fiador do teu servo para o bem; não deixes que os soberbos me oprimam.\n",
      "123 - Os meus olhos desfaleceram pela tua salvação e pela promessa da tua justiça.\n",
      "124 - Usa com o teu servo segundo a tua benignidade, e ensina-me os teus estatutos.\n",
      "125 - Sou teu servo; dá-me inteligência, para entender os teus testemunhos.\n",
      "126 - Já é tempo de operares, ó Senhor, pois eles têm quebrantado a tua lei.\n",
      "127 - Por isso am\n",
      "128 - Por isso estimo todos os teus preceitos acerca de tudo, como retos, e odeio toda falsa vereda.\n",
      "129 - Maravilhosos são os teus testemunhos; portanto, a minha alma os guarda.\n",
      "130 - A entrada das tuas palavras dá luz, dá entendimento aos símplices.\n",
      "131 - Abri a minha boca, e respirei, pois que desejei os teus mandamentos.\n",
      "132 - Olha para mim, e tem piedade de mim, conforme usas com os que amam o teu nome.\n",
      "133 - Ordena os meus passos na tua palavra, e não se apodere de mim iniqüidade alguma.\n",
      "134 - Livra-me da opressão do homem; assim guardarei os teus preceitos.\n",
      "135 - Faze resplandecer o teu rosto sobre o teu servo, e ensina-me os teus estatutos.\n",
      "136 - Rios de águas correm dos meus olhos, porque não guardam a tua lei.\n",
      "137 - Justo és, ó Senhor, e retos são os teus juízos.\n",
      "138 - Os teus testemunhos que ordenaste são retos e muito fiéis.\n",
      "139 - O meu zelo me consumiu, porque os meus inimigos se esqueceram da tua palavra.\n",
      "140 - A tua palavra é muito pura; portanto, o teu servo a ama.\n",
      "141 - Pequeno sou e desprezado, porém não me esqueço dos teus mandamentos.\n",
      "142 - A tua justiça é uma justiça eterna, e a tua lei é a verdade.\n",
      "143 - Aflição e angústia se apoderam de mim; contudo os teus mandamentos são o meu prazer.\n",
      "144 - A justiça dos teus testemunhos é eterna; dá-me inteligência, e viverei.\n",
      "145 - Clamei de todo o meu coração; escuta-me, Senhor, e guardarei os teus estatutos.\n",
      "146 - A ti te invoquei; salva-me, e guardarei os teus testemunhos.\n",
      "147 - Antecipei o cair da noite, e clamei; esperei na tua palavra.\n",
      "148 - Os meus olhos anteciparam as vigílias da noite, para meditar na tua palavra.\n",
      "149 - Ouve a minha voz, segundo a tua benignidade; vivifica-me, ó Senhor, segundo o teu juízo.\n",
      "150 - Aproximam-se os que se dão a maus tratos; afastam-se da tua lei.\n",
      "151 - Tu estás perto, ó Senhor, e todos os teus mandamentos são a verdade.\n",
      "152 - Acerca dos teus testemunhos soube, desde a antiguidade, que tu os fundaste para sempre.\n",
      "153 - Olha para a minha aflição, e livra-me, pois não me esqueci da tua lei.\n",
      "154 - Pleiteia a minha causa, e livra-me; vivifica-me segundo a tua palavra.\n",
      "155 - A salvação está longe dos ímpios, pois não buscam os teus estatutos.\n",
      "156 - Muitas são, ó Senhor, as tuas misericórdias; vivifica-me segundo os teus juízos.\n",
      "157 - Muitos são os meus perseguidores e os meus inimigos; mas não me desvio dos teus testemunhos.\n",
      "158 - Vi os transgressores, e me afligi, porque não observam a tua palavra.\n",
      "159 - Considera como amo os teus preceitos; vivifica-me, ó Senhor, segundo a tua benignidade.\n",
      "160 - A tua palavra é a verdade desde o princípio, e cada um dos teus juízos dura para sempre.\n",
      "161 - Príncipes me perseguiram sem causa, mas o meu coração temeu a tua palavra.\n",
      "162 - Folgo com a tua palavra, como aquele que acha um grande despojo.\n",
      "163 - Abomino e odeio a mentira; mas amo a tua lei.\n",
      "164 - Sete vezes no dia te louvo pelos juízos da tua justiça.\n",
      "165 - Muita paz têm os que amam a tua lei, e para eles não há tropeço.\n",
      "166 - Senhor, tenho esperado na tua salvação, e tenho cumprido os teus mandamentos.\n",
      "167 - A minha alma tem observado os teus testemunhos; amo-os excessivamente.\n",
      "168 - Tenho observado os teus preceitos, e os teus testemunhos, porque todos os meus caminhos estão diante de ti.\n",
      "169 - Chegue a ti o meu clamor, ó Senhor; dá-me entendimento conforme a tua palavra.\n",
      "170 - Chegue a minha súplica perante a tua face; livra-me segundo a tua palavra.\n",
      "171 - Os meus lábios proferiram o louvor, quando me ensinaste os teus estatutos.\n",
      "172 - A minha língua falará da tua palavra, pois todos os teus mandamentos são justiça.\n",
      "173 - Venha a tua mão socorrer-me, pois escolhi os teus preceitos.\n",
      "174 - Tenho desejado a tua salvação, ó Senhor; a tua lei é todo o meu prazer.\n",
      "175 - Viva a minha alma, e louvar-te-á; ajudem-me os teus juízos.\n",
      "176 - Desgarrei-me como a ovelha perdida; busca o teu servo, pois não me esqueci dos teus mandamentos.\n"
     ]
    }
   ],
   "source": [
    "buscar_capitulo(\"acf\", \"Salmos\", 119)"
   ]
  },
  {
   "cell_type": "code",
   "execution_count": null,
   "id": "ad13c5c2-4e8d-430c-b145-b36a9d0d51ce",
   "metadata": {},
   "outputs": [],
   "source": []
  }
 ],
 "metadata": {
  "kernelspec": {
   "display_name": "Python 3 (ipykernel)",
   "language": "python",
   "name": "python3"
  },
  "language_info": {
   "codemirror_mode": {
    "name": "ipython",
    "version": 3
   },
   "file_extension": ".py",
   "mimetype": "text/x-python",
   "name": "python",
   "nbconvert_exporter": "python",
   "pygments_lexer": "ipython3",
   "version": "3.13.2"
  }
 },
 "nbformat": 4,
 "nbformat_minor": 5
}
