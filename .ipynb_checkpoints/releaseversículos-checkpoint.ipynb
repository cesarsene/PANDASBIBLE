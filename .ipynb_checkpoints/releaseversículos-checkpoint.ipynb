{
 "cells": [
  {
   "cell_type": "code",
   "execution_count": 1,
   "id": "1b89f25c-2edd-47af-8d1b-8e5c262bcd47",
   "metadata": {},
   "outputs": [],
   "source": [
    "import xml.etree.ElementTree as ET\n",
    "import pandas as pd"
   ]
  },
  {
   "cell_type": "code",
   "execution_count": 2,
   "id": "c184e37d-53eb-4158-8d2f-da48379f65c9",
   "metadata": {},
   "outputs": [],
   "source": [
    "# Caminho do XML (pode usar uma lista depois)\n",
    "xml_path = r\"C:\\Users\\Felipe\\Desktop\\Banco de Dados\\biblia\\xml\\aa.min.xml\""
   ]
  },
  {
   "cell_type": "code",
   "execution_count": 3,
   "id": "f1fd2757-a751-43f5-a71c-a778b3f51ed6",
   "metadata": {},
   "outputs": [],
   "source": [
    "# Parse do XML\n",
    "tree = ET.parse(xml_path)\n",
    "root = tree.getroot()\n",
    "\n",
    "# Lista para armazenar os dados\n",
    "data = []\n",
    "\n",
    "# Loop pelos livros\n",
    "for book in root.findall(\"book\"):\n",
    "    book_name = book.get(\"name\")\n",
    "    abbrev = book.get(\"abbrev\")\n",
    "\n",
    "    # Loop pelos capítulos\n",
    "    for chapter in book.findall(\"c\"):\n",
    "        chapter_num = chapter.get(\"n\")\n",
    "\n",
    "        # Loop pelos versículos\n",
    "        for verse in chapter.findall(\"v\"):\n",
    "            verse_num = verse.get(\"n\")\n",
    "            verse_text = verse.text\n",
    "\n",
    "            data.append({\n",
    "                \"livro\": book_name,\n",
    "                \"abrev\": abbrev,\n",
    "                \"capitulo\": int(chapter_num),\n",
    "                \"versiculo\": int(verse_num),\n",
    "                \"texto\": verse_text\n",
    "            })"
   ]
  },
  {
   "cell_type": "code",
   "execution_count": 4,
   "id": "139513bb-2afb-469f-83aa-6d60a97681bc",
   "metadata": {},
   "outputs": [
    {
     "name": "stdout",
     "output_type": "stream",
     "text": [
      "     livro abrev  capitulo  versiculo  \\\n",
      "0  Gênesis    gn         1          1   \n",
      "1  Gênesis    gn         1          2   \n",
      "2  Gênesis    gn         1          3   \n",
      "3  Gênesis    gn         1          4   \n",
      "4  Gênesis    gn         1          5   \n",
      "\n",
      "                                               texto  \n",
      "0         No princípio criou Deus os céus e a terra.  \n",
      "1  A terra era sem forma e vazia; e havia trevas ...  \n",
      "2                 Disse Deus: haja luz. E houve luz.  \n",
      "3  Viu Deus que a luz era boa; e fez separação en...  \n",
      "4  E Deus chamou à luz dia, e às trevas noite. E ...  \n"
     ]
    }
   ],
   "source": [
    "# Criar o DataFrame\n",
    "df = pd.DataFrame(data)\n",
    "\n",
    "# Exibir os primeiros versículos\n",
    "print(df.head())"
   ]
  },
  {
   "cell_type": "code",
   "execution_count": 8,
   "id": "3c1b0f57-9144-4eab-9892-ada2fb3fe694",
   "metadata": {},
   "outputs": [],
   "source": [
    "import xml.etree.ElementTree as ET\n",
    "import pandas as pd"
   ]
  },
  {
   "cell_type": "code",
   "execution_count": 9,
   "id": "aee44a48-9590-47a6-8880-ade25ea6b902",
   "metadata": {},
   "outputs": [],
   "source": [
    "# Lista de arquivos XML com o nome da versão\n",
    "xml_files = [\n",
    "    (\"aa\", r\"C:\\Users\\Felipe\\Desktop\\Banco de Dados\\biblia\\xml\\aa.min.xml\"),\n",
    "    (\"acf\", r\"C:\\Users\\Felipe\\Desktop\\Banco de Dados\\biblia\\xml\\acf.min.xml\"),\n",
    "    (\"nvi\", r\"C:\\Users\\Felipe\\Desktop\\Banco de Dados\\biblia\\xml\\nvi.min.xml\")\n",
    "]"
   ]
  },
  {
   "cell_type": "code",
   "execution_count": 10,
   "id": "4fa1968f-6368-4a63-90bf-77a8d810dbf5",
   "metadata": {},
   "outputs": [],
   "source": [
    "# Lista para armazenar os DataFrames de cada versão\n",
    "dfs = []"
   ]
  },
  {
   "cell_type": "code",
   "execution_count": 11,
   "id": "5ee673ee-5c55-4fb5-90dc-8961bc9373a4",
   "metadata": {},
   "outputs": [],
   "source": [
    "# Carregar todos os XMLs no pandas\n",
    "for versao, xml_path in xml_files:\n",
    "    tree = ET.parse(xml_path)\n",
    "    root = tree.getroot()\n",
    "    data = []\n",
    "\n",
    "    for book in root.findall(\"book\"):\n",
    "        livro = book.get(\"name\")\n",
    "        abrev = book.get(\"abbrev\")\n",
    "\n",
    "        for chapter in book.findall(\"c\"):\n",
    "            capitulo = int(chapter.get(\"n\"))\n",
    "\n",
    "            for verse in chapter.findall(\"v\"):\n",
    "                versiculo = int(verse.get(\"n\"))\n",
    "                texto = verse.text\n",
    "\n",
    "                data.append({\n",
    "                    \"versao\": versao.lower(),\n",
    "                    \"livro\": livro,\n",
    "                    \"abrev\": abrev,\n",
    "                    \"capitulo\": capitulo,\n",
    "                    \"versiculo\": versiculo,\n",
    "                    \"texto\": texto\n",
    "                })\n",
    "\n",
    "    df = pd.DataFrame(data)\n",
    "    dfs.append(df)"
   ]
  },
  {
   "cell_type": "code",
   "execution_count": 12,
   "id": "ee1e6b4b-e6fc-4d8f-8342-9678ea876e7f",
   "metadata": {},
   "outputs": [
    {
     "name": "stdout",
     "output_type": "stream",
     "text": [
      "  versao    livro abrev  capitulo  versiculo  \\\n",
      "0     aa  Gênesis    gn         1          1   \n",
      "1     aa  Gênesis    gn         1          2   \n",
      "2     aa  Gênesis    gn         1          3   \n",
      "3     aa  Gênesis    gn         1          4   \n",
      "4     aa  Gênesis    gn         1          5   \n",
      "\n",
      "                                               texto  \n",
      "0         No princípio criou Deus os céus e a terra.  \n",
      "1  A terra era sem forma e vazia; e havia trevas ...  \n",
      "2                 Disse Deus: haja luz. E houve luz.  \n",
      "3  Viu Deus que a luz era boa; e fez separação en...  \n",
      "4  E Deus chamou à luz dia, e às trevas noite. E ...  \n"
     ]
    }
   ],
   "source": [
    "# Unir todos os DataFrames em um só\n",
    "df_biblia = pd.concat(dfs, ignore_index=True)\n",
    "\n",
    "# Visualização rápida\n",
    "print(df_biblia.head())"
   ]
  },
  {
   "cell_type": "code",
   "execution_count": 20,
   "id": "acd88771-1623-48f1-bd40-45c1cb83d8d3",
   "metadata": {
    "scrolled": true
   },
   "outputs": [],
   "source": [
    "def buscar_versiculo(versao, livro, capitulo, versiculo):\n",
    "    resultado = df_biblia[\n",
    "        (df_biblia[\"versao\"].str.lower() == versao.lower()) &\n",
    "        (df_biblia[\"livro\"].str.lower() == livro.lower()) &\n",
    "        (df_biblia[\"capitulo\"] == capitulo) &\n",
    "        (df_biblia[\"versiculo\"] == versiculo)\n",
    "    ]\n",
    "\n",
    "    if resultado.empty:\n",
    "        print(\"Versículo não encontrado.\")\n",
    "    else:\n",
    "        print(f\"\\n{livro} {capitulo}:{versiculo} ({versao.upper()})\")\n",
    "        print(resultado.iloc[0][\"texto\"])\n"
   ]
  },
  {
   "cell_type": "code",
   "execution_count": 21,
   "id": "8f057b54-ce1a-420f-8f44-bf4d8fa6053c",
   "metadata": {},
   "outputs": [
    {
     "name": "stdout",
     "output_type": "stream",
     "text": [
      "\n",
      "Judas 1:21 (ACF)\n",
      "Conservai-vos a vós mesmos no amor de Deus, esperando a misericórdia de nosso Senhor Jesus Cristo para a vida eterna.\n"
     ]
    }
   ],
   "source": [
    "buscar_versiculo(\"acf\", \"Judas\", 1, 21)"
   ]
  },
  {
   "cell_type": "code",
   "execution_count": 22,
   "id": "d81b1449-ce59-4569-a6be-a625c82f4c3f",
   "metadata": {},
   "outputs": [
    {
     "name": "stdout",
     "output_type": "stream",
     "text": [
      "\n",
      "Judas 1:21 (AA)\n",
      "conservai-vos no amor de Deus, esperando a misericórdia de nosso Senhor Jesus Cristo para a vida eterna.\n"
     ]
    }
   ],
   "source": [
    "buscar_versiculo(\"aa\", \"\", 1, 21)"
   ]
  },
  {
   "cell_type": "code",
   "execution_count": 23,
   "id": "ec3347e5-6cba-4eeb-85d9-fdc0ab4a1317",
   "metadata": {},
   "outputs": [
    {
     "name": "stdout",
     "output_type": "stream",
     "text": [
      "\n",
      "Romanos 8:1 (ACF)\n",
      "Portanto, agora nenhuma condenação há para os que estão em Cristo Jesus, que não andam segundo a carne, mas segundo o Espírito.\n"
     ]
    }
   ],
   "source": [
    "buscar_versiculo(\"acf\", \"Romanos\", 8, 1)"
   ]
  },
  {
   "cell_type": "code",
   "execution_count": null,
   "id": "e7e61b79-708b-46d5-84bb-edcb911015d0",
   "metadata": {},
   "outputs": [],
   "source": []
  }
 ],
 "metadata": {
  "kernelspec": {
   "display_name": "Python 3 (ipykernel)",
   "language": "python",
   "name": "python3"
  },
  "language_info": {
   "codemirror_mode": {
    "name": "ipython",
    "version": 3
   },
   "file_extension": ".py",
   "mimetype": "text/x-python",
   "name": "python",
   "nbconvert_exporter": "python",
   "pygments_lexer": "ipython3",
   "version": "3.13.2"
  }
 },
 "nbformat": 4,
 "nbformat_minor": 5
}
