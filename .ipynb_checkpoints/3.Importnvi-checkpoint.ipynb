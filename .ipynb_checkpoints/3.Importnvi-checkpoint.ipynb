{
 "cells": [
  {
   "cell_type": "code",
   "execution_count": 19,
   "id": "7e5d4bee-620d-4857-9220-9b4fe38701a3",
   "metadata": {},
   "outputs": [],
   "source": [
    "import pandas as pd\n",
    "from sqlalchemy import create_engine"
   ]
  },
  {
   "cell_type": "code",
   "execution_count": 20,
   "id": "3e5cbdd6-08bc-48b7-9d0e-3f5147bd2627",
   "metadata": {},
   "outputs": [],
   "source": [
    "# Configuração do banco de dados MySQL\n",
    "DB_USER = \"root\"\n",
    "DB_PASSWORD = \"Sen3180326#*#\"\n",
    "DB_HOST = \"localhost\"  # ou IP do servidor\n",
    "DB_NAME = \"labstag\"\n",
    "TABLE_NAME = \"versoes\""
   ]
  },
  {
   "cell_type": "code",
   "execution_count": 21,
   "id": "384f63ae-be2e-494e-a9b3-c54fe2069350",
   "metadata": {},
   "outputs": [],
   "source": [
    "# Criar conexão com o MySQL\n",
    "engine = create_engine(f\"mysql+pymysql://{DB_USER}:{DB_PASSWORD}@{DB_HOST}/{DB_NAME}\")"
   ]
  },
  {
   "cell_type": "code",
   "execution_count": 22,
   "id": "f745073b-71cd-4098-8873-6f6e8d36de39",
   "metadata": {},
   "outputs": [],
   "source": [
    "# Função para verificar se um índice já existe\n",
    "def index_exists(conn, index_name):\n",
    "    result = conn.execute(f\"SHOW INDEX FROM {TABLE_NAME} WHERE Key_name = '{index_name}'\").fetchall()\n",
    "    return len(result) > 0"
   ]
  },
  {
   "cell_type": "code",
   "execution_count": 25,
   "id": "adc067e4-3c3f-4add-ba80-3a46e539d714",
   "metadata": {},
   "outputs": [
    {
     "ename": "_IncompleteInputError",
     "evalue": "incomplete input (4173081493.py, line 13)",
     "output_type": "error",
     "traceback": [
      "  \u001b[36mCell\u001b[39m\u001b[36m \u001b[39m\u001b[32mIn[25]\u001b[39m\u001b[32m, line 13\u001b[39m\n\u001b[31m    \u001b[39m\u001b[31mprint(f\"Índice {index_name} já existe!\")\u001b[39m\n                                            ^\n\u001b[31m_IncompleteInputError\u001b[39m\u001b[31m:\u001b[39m incomplete input\n"
     ]
    }
   ],
   "source": [
    "# Criar índices para as versões\n",
    "try:\n",
    "    with engine.connect() as conn:  # Movi o try para fora do with\n",
    "        indices = [\"aa\", \"acf\", \"nvi\"]\n",
    "        \n",
    "        for versao in indices:\n",
    "            index_name = f\"idx_versao_{versao}\"\n",
    "            \n",
    "            if not index_exists(conn, index_name):\n",
    "                conn.exec_driver_sql(f\"CREATE INDEX {index_name} ON {TABLE_NAME} (versao)\")\n",
    "                print(f\"Índice {index_name} criado com sucesso!\")\n",
    "            else:\n",
    "                print(f\"Índice {index_name} já existe!\")"
   ]
  },
  {
   "cell_type": "code",
   "execution_count": 18,
   "id": "f4d7fcb3-1d50-4250-9761-5c9047497e69",
   "metadata": {},
   "outputs": [
    {
     "ename": "SyntaxError",
     "evalue": "invalid syntax (2840438559.py, line 13)",
     "output_type": "error",
     "traceback": [
      "  \u001b[36mCell\u001b[39m\u001b[36m \u001b[39m\u001b[32mIn[18]\u001b[39m\u001b[32m, line 13\u001b[39m\n\u001b[31m    \u001b[39m\u001b[31melse:\u001b[39m\n    ^\n\u001b[31mSyntaxError\u001b[39m\u001b[31m:\u001b[39m invalid syntax\n"
     ]
    }
   ],
   "source": [
    "except Exception as e:\n",
    "        print(f\"Erro ao criar índices: {e}\")"
   ]
  },
  {
   "cell_type": "code",
   "execution_count": null,
   "id": "bdb7bc17-d65b-466c-b73a-a6c49e5679f3",
   "metadata": {},
   "outputs": [],
   "source": []
  },
  {
   "cell_type": "code",
   "execution_count": null,
   "id": "2f642ae8-cb56-45fd-b6bb-18d602d31ee5",
   "metadata": {},
   "outputs": [],
   "source": [
    "\n",
    "\n",
    "\n",
    "\n",
    "\n",
    "\n",
    "\n",
    "\n",
    "\n",
    "\n",
    "\n",
    "\n",
    "    "
   ]
  }
 ],
 "metadata": {
  "kernelspec": {
   "display_name": "Python 3 (ipykernel)",
   "language": "python",
   "name": "python3"
  },
  "language_info": {
   "codemirror_mode": {
    "name": "ipython",
    "version": 3
   },
   "file_extension": ".py",
   "mimetype": "text/x-python",
   "name": "python",
   "nbconvert_exporter": "python",
   "pygments_lexer": "ipython3",
   "version": "3.13.2"
  }
 },
 "nbformat": 4,
 "nbformat_minor": 5
}
