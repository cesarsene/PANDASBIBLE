{
 "cells": [
  {
   "cell_type": "code",
   "execution_count": 21,
   "id": "03ec3aa9-bd3c-40b9-b562-653e8129af8c",
   "metadata": {},
   "outputs": [
    {
     "name": "stdout",
     "output_type": "stream",
     "text": [
      "            name abbrev  chapters         c\n",
      "0        Gênesis     gn        50  \\n\\t\\t\\t\n",
      "1          Êxodo     ex        40  \\n\\t\\t\\t\n",
      "2       Levítico     lv        27  \\n\\t\\t\\t\n",
      "3        Números     nm        36  \\n\\t\\t\\t\n",
      "4   Deuteronômio     dt        34  \\n\\t\\t\\t\n",
      "..           ...    ...       ...       ...\n",
      "61       1ª João    1jo         3  \\n\\t\\t\\t\n",
      "62       2ª João    2jo         1  \\n\\t\\t\\t\n",
      "63       3ª João    3jo         1  \\n\\t\\t\\t\n",
      "64         Judas     jd         1  \\n\\t\\t\\t\n",
      "65    Apocalipse     ap        22  \\n\\t\\t\\t\n",
      "\n",
      "[66 rows x 4 columns]\n"
     ]
    }
   ],
   "source": [
    "import pandas as pd  \n",
    "\n",
    "xml_file = r\"C:\\Users\\Felipe\\Desktop\\Banco de Dados\\biblia\\xml\\aa.min.xml\"\n",
    "df = pd.read_xml(xml_file)\n",
    "\n",
    "print(df)"
   ]
  },
  {
   "cell_type": "code",
   "execution_count": 23,
   "id": "7f831243-ecf7-44d9-bd7e-f7623eb9024a",
   "metadata": {},
   "outputs": [
    {
     "name": "stdout",
     "output_type": "stream",
     "text": [
      "            name abbrev  chapters         c\n",
      "0        Gênesis     gn        50  \\n\\t\\t\\t\n",
      "1          Êxodo     ex        40  \\n\\t\\t\\t\n",
      "2       Levítico     lv        27  \\n\\t\\t\\t\n",
      "3        Números     nm        36  \\n\\t\\t\\t\n",
      "4   Deuteronômio     dt        34  \\n\\t\\t\\t\n",
      "..           ...    ...       ...       ...\n",
      "61       1ª João    1jo         3  \\n\\t\\t\\t\n",
      "62       2ª João    2jo         1  \\n\\t\\t\\t\n",
      "63       3ª João    3jo         1  \\n\\t\\t\\t\n",
      "64         Judas     jd         1  \\n\\t\\t\\t\n",
      "65    Apocalipse     ap        22  \\n\\t\\t\\t\n",
      "\n",
      "[66 rows x 4 columns]\n"
     ]
    }
   ],
   "source": [
    "import pandas as pd  \n",
    "\n",
    "xml_file = r\"C:\\Users\\Felipe\\Desktop\\Banco de Dados\\biblia\\xml\\acf.min.xml\"\n",
    "df = pd.read_xml(xml_file)\n",
    "\n",
    "print(df)"
   ]
  },
  {
   "cell_type": "code",
   "execution_count": 25,
   "id": "e0e788da-9133-40e4-bd84-6272985b018c",
   "metadata": {},
   "outputs": [
    {
     "name": "stdout",
     "output_type": "stream",
     "text": [
      "            name abbrev  chapters         c\n",
      "0        Gênesis     gn        50  \\n\\t\\t\\t\n",
      "1          Êxodo     ex        40  \\n\\t\\t\\t\n",
      "2       Levítico     lv        27  \\n\\t\\t\\t\n",
      "3        Números     nm        36  \\n\\t\\t\\t\n",
      "4   Deuteronômio     dt        34  \\n\\t\\t\\t\n",
      "..           ...    ...       ...       ...\n",
      "61       1ª João    1jo         3  \\n\\t\\t\\t\n",
      "62       2ª João    2jo         1  \\n\\t\\t\\t\n",
      "63       3ª João    3jo         1  \\n\\t\\t\\t\n",
      "64         Judas     jd         1  \\n\\t\\t\\t\n",
      "65    Apocalipse     ap        22  \\n\\t\\t\\t\n",
      "\n",
      "[66 rows x 4 columns]\n"
     ]
    }
   ],
   "source": [
    "import pandas as pd  \n",
    "\n",
    "xml_file = r\"C:\\Users\\Felipe\\Desktop\\Banco de Dados\\biblia\\xml\\nvi.min.xml\"\n",
    "df = pd.read_xml(xml_file)\n",
    "\n",
    "print(df)"
   ]
  },
  {
   "cell_type": "code",
   "execution_count": 31,
   "id": "cd1a80de-444a-4b3d-b71a-3eac3100b21b",
   "metadata": {},
   "outputs": [
    {
     "name": "stdout",
     "output_type": "stream",
     "text": [
      "           name abbrev  chapters         c\n",
      "0       Gênesis     gn        50  \\n\\t\\t\\t\n",
      "1         Êxodo     ex        40  \\n\\t\\t\\t\n",
      "2      Levítico     lv        27  \\n\\t\\t\\t\n",
      "3       Números     nm        36  \\n\\t\\t\\t\n",
      "4  Deuteronômio     dt        34  \\n\\t\\t\\t\n"
     ]
    }
   ],
   "source": [
    "import os\n",
    "import pandas as pd\n",
    "\n",
    "# Caminho para a pasta onde os arquivos XML estão localizados\n",
    "xml_folder = r\"C:\\Users\\Felipe\\Desktop\\Banco de Dados\\biblia\\xml\"\n",
    "\n",
    "# Lista todos os arquivos XML na pasta\n",
    "xml_files = [f for f in os.listdir(xml_folder) if f.endswith('.xml')]\n",
    "\n",
    "# Inicializa uma lista para armazenar os DataFrames de cada arquivo XML\n",
    "df_list = []\n",
    "\n",
    "# Itera sobre os arquivos XML e carrega cada um no DataFrame\n",
    "for xml_file in xml_files:\n",
    "    # Cria o caminho completo para o arquivo XML\n",
    "    file_path = os.path.join(xml_folder, xml_file)\n",
    "    \n",
    "    # Lê o XML e adiciona o DataFrame à lista\n",
    "    df = pd.read_xml(file_path)\n",
    "    df_list.append(df)\n",
    "\n",
    "# Concatena todos os DataFrames em um único DataFrame\n",
    "final_df = pd.concat(df_list, ignore_index=True)\n",
    "\n",
    "# Exibe os primeiros registros do DataFrame final\n",
    "print(final_df.head())"
   ]
  },
  {
   "cell_type": "code",
   "execution_count": null,
   "id": "c7591c93-31dc-4e32-9620-2ce55e225a1b",
   "metadata": {},
   "outputs": [],
   "source": []
  }
 ],
 "metadata": {
  "kernelspec": {
   "display_name": "Python 3 (ipykernel)",
   "language": "python",
   "name": "python3"
  },
  "language_info": {
   "codemirror_mode": {
    "name": "ipython",
    "version": 3
   },
   "file_extension": ".py",
   "mimetype": "text/x-python",
   "name": "python",
   "nbconvert_exporter": "python",
   "pygments_lexer": "ipython3",
   "version": "3.13.2"
  }
 },
 "nbformat": 4,
 "nbformat_minor": 5
}
