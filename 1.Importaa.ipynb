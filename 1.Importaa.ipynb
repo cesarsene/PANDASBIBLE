{
 "cells": [
  {
   "cell_type": "code",
   "execution_count": 2,
   "id": "4158232f-10b1-40aa-a0eb-98819386ec36",
   "metadata": {},
   "outputs": [],
   "source": [
    "import pandas as pd\n",
    "from sqlalchemy import create_engine\n",
    "import xml.etree.ElementTree as ET"
   ]
  },
  {
   "cell_type": "code",
   "execution_count": null,
   "id": "6e3b2cc7-cd20-40b1-8f94-d17d68351871",
   "metadata": {},
   "outputs": [],
   "source": []
  },
  {
   "cell_type": "code",
   "execution_count": 4,
   "id": "ec2da6ff-1f8a-45fd-a2ed-34d30037893e",
   "metadata": {},
   "outputs": [
    {
     "name": "stdout",
     "output_type": "stream",
     "text": [
      "           name abbrev  chapters         c\n",
      "0       Gênesis     gn        50  \\n\\t\\t\\t\n",
      "1         Êxodo     ex        40  \\n\\t\\t\\t\n",
      "2      Levítico     lv        27  \\n\\t\\t\\t\n",
      "3       Números     nm        36  \\n\\t\\t\\t\n",
      "4  Deuteronômio     dt        34  \\n\\t\\t\\t\n"
     ]
    }
   ],
   "source": [
    "import pandas as pd\n",
    "\n",
    "# Corrigindo a lista de arquivos com vírgulas entre os caminhos\n",
    "xml_files = [\n",
    "    r\"C:\\Users\\Felipe\\Desktop\\Banco de Dados\\biblia\\xml\\aa.min.xml\",\n",
    "    r\"C:\\Users\\Felipe\\Desktop\\Banco de Dados\\biblia\\xml\\acf.min.xml\",\n",
    "    r\"C:\\Users\\Felipe\\Desktop\\Banco de Dados\\biblia\\xml\\nvi.min.xml\"\n",
    "]\n",
    "\n",
    "# Criar um DataFrame combinando todos os arquivos\n",
    "all_dfs = []\n",
    "\n",
    "for file in xml_files:\n",
    "    df = pd.read_xml(file)\n",
    "    all_dfs.append(df)\n",
    "\n",
    "# Concatenar todos em um único DataFrame\n",
    "df_biblia = pd.concat(all_dfs, ignore_index=True)\n",
    "\n",
    "# Exibir as primeiras linhas\n",
    "print(df_biblia.head())\n"
   ]
  },
  {
   "cell_type": "code",
   "execution_count": null,
   "id": "95947921-5935-4a4f-87db-f4e0ece2d3c5",
   "metadata": {},
   "outputs": [],
   "source": [
    "import mysql.connector\n",
    "\n",
    "# Conectar ao banco\n",
    "conn = mysql.connector.connect(\n",
    "    host=\"localhost\",\n",
    "    user=\"root\",\n",
    "    password=\"Sen3180326\",\n",
    "    database=\"labstag\"\n",
    ")\n",
    "\n",
    "cursor = conn.cursor()"
   ]
  },
  {
   "cell_type": "code",
   "execution_count": null,
   "id": "ecd6e51c-3977-4ce0-8eca-ad3e6a7ce891",
   "metadata": {},
   "outputs": [],
   "source": [
    "import xml.etree.ElementTree as ET\n",
    "import pandas as pd\n",
    "import os\n",
    "\n",
    "# Lista com todos os arquivos + nome da versão\n",
    "xml_files = [\n",
    "    (\"aa\", r\"C:\\Users\\Felipe\\Desktop\\Banco de Dados\\biblia\\xml\\aa.min.xml\"),\n",
    "    (\"acf\", r\"C:\\Users\\Felipe\\Desktop\\Banco de Dados\\biblia\\xml\\acf.min.xml\"),\n",
    "    (\"nvi\", r\"C:\\Users\\Felipe\\Desktop\\Banco de Dados\\biblia\\xml\\nvi.min.xml\")\n",
    "]\n",
    "\n",
    "for versao, xml_path in xml_files:\n",
    "    print(f\"Processando versão {versao}...\")\n",
    "\n",
    "    tree = ET.parse(xml_path)\n",
    "    root = tree.getroot()\n",
    "    data = []\n",
    "\n",
    "    for book in root.findall(\"book\"):\n",
    "        livro = book.get(\"name\")\n",
    "        abrev = book.get(\"abbrev\")\n",
    "\n",
    "        for chapter in book.findall(\"c\"):\n",
    "            capitulo = int(chapter.get(\"n\"))\n",
    "\n",
    "            for verse in chapter.findall(\"v\"):\n",
    "                versiculo = int(verse.get(\"n\"))\n",
    "                texto = verse.text\n",
    "\n",
    "                data.append((versao, livro, abrev, capitulo, versiculo, texto))\n",
    "\n",
    "    # Inserir no banco de dados\n",
    "    insert_query = \"\"\"\n",
    "    INSERT INTO versiculos (versao, livro, abrev, capitulo, versiculo, texto)\n",
    "    VALUES (%s, %s, %s, %s, %s, %s)\n",
    "    \"\"\"\n",
    "\n",
    "    cursor.executemany(insert_query, data)\n",
    "    conn.commit()\n",
    "    print(f\"Inseridos {len(data)} versículos da versão {versao} com sucesso!\")"
   ]
  },
  {
   "cell_type": "code",
   "execution_count": null,
   "id": "e1768721-dc5e-40b4-af0f-d1b094284cbe",
   "metadata": {},
   "outputs": [],
   "source": []
  }
 ],
 "metadata": {
  "kernelspec": {
   "display_name": "Python 3 (ipykernel)",
   "language": "python",
   "name": "python3"
  },
  "language_info": {
   "codemirror_mode": {
    "name": "ipython",
    "version": 3
   },
   "file_extension": ".py",
   "mimetype": "text/x-python",
   "name": "python",
   "nbconvert_exporter": "python",
   "pygments_lexer": "ipython3",
   "version": "3.13.2"
  }
 },
 "nbformat": 4,
 "nbformat_minor": 5
}
