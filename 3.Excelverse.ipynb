{
 "cells": [
  {
   "cell_type": "code",
   "execution_count": 17,
   "id": "e0325029-2340-49db-a868-f283c9893987",
   "metadata": {},
   "outputs": [
    {
     "name": "stdout",
     "output_type": "stream",
     "text": [
      "\n",
      "--- Menu da Bíblia ---\n",
      "1. Listar livros\n",
      "2. Buscar versículo\n",
      "3. Buscar capítulo\n",
      "0. Sair\n"
     ]
    },
    {
     "name": "stdin",
     "output_type": "stream",
     "text": [
      "Escolha uma opção:  2\n",
      "Versão da Bíblia (aa, acf, nvi):  aa\n",
      "Livro:  Judas\n",
      "Capítulo:  1\n",
      "Versículo:  21\n"
     ]
    },
    {
     "name": "stdout",
     "output_type": "stream",
     "text": [
      "\n",
      "Judas 1:21 (AA)\n",
      "conservai-vos no amor de Deus, esperando a misericórdia de nosso Senhor Jesus Cristo para a vida eterna.\n",
      "\n",
      "📄 Versículo exportado para o arquivo: aa_Judas_1_21.xlsx\n",
      "\n",
      "--- Menu da Bíblia ---\n",
      "1. Listar livros\n",
      "2. Buscar versículo\n",
      "3. Buscar capítulo\n",
      "0. Sair\n"
     ]
    },
    {
     "name": "stdin",
     "output_type": "stream",
     "text": [
      "Escolha uma opção:  0\n"
     ]
    },
    {
     "name": "stdout",
     "output_type": "stream",
     "text": [
      "Saindo...\n"
     ]
    }
   ],
   "source": [
    "import pandas as pd\n",
    "from sqlalchemy import create_engine\n",
    "import urllib.parse\n",
    "\n",
    "# --- Conexão com o banco ---\n",
    "usuario = \"root\"\n",
    "senha_original = \"Sen3180326#*#\"\n",
    "senha = urllib.parse.quote_plus(senha_original)\n",
    "host = \"localhost\"\n",
    "porta = 3306\n",
    "banco = \"labstag\"\n",
    "\n",
    "engine = create_engine(f\"mysql+pymysql://{usuario}:{senha}@{host}:{porta}/{banco}\")\n",
    "\n",
    "# --- Funções de consulta ---\n",
    "def buscar_versiculo(engine, versao, livro, capitulo, versiculo):\n",
    "    tabela = f\"versao_{versao.lower()}\"\n",
    "    query = f\"\"\"\n",
    "    SELECT * FROM {tabela}\n",
    "    WHERE LOWER(livro) = %s AND capitulo = %s AND versiculo = %s\n",
    "    \"\"\"\n",
    "    df = pd.read_sql_query(query, engine, params=(livro.lower(), capitulo, versiculo))\n",
    "    if df.empty:\n",
    "        print(\"Versículo não encontrado.\")\n",
    "    else:\n",
    "        row = df.iloc[0]\n",
    "        print(f\"\\n{row['livro']} {row['capitulo']}:{row['versiculo']} ({row['versao'].upper()})\")\n",
    "        print(row[\"texto\"])\n",
    "\n",
    "        # Exporta para Excel\n",
    "        nome_arquivo = f\"{versao}_{livro}_{capitulo}_{versiculo}.xlsx\".replace(\" \", \"_\")\n",
    "        df.to_excel(nome_arquivo, index=False)\n",
    "        print(f\"\\n📄 Versículo exportado para o arquivo: {nome_arquivo}\")\n",
    "\n",
    "def buscar_capitulo(engine, versao, livro, capitulo):\n",
    "    tabela = f\"versao_{versao.lower()}\"\n",
    "    query = f\"\"\"\n",
    "    SELECT * FROM {tabela}\n",
    "    WHERE LOWER(livro) = %s AND capitulo = %s\n",
    "    ORDER BY versiculo\n",
    "    \"\"\"\n",
    "    df = pd.read_sql_query(query, engine, params=(livro.lower(), capitulo))\n",
    "    if df.empty:\n",
    "        print(\"Capítulo não encontrado.\")\n",
    "    else:\n",
    "        print(f\"\\n{livro} {capitulo} ({versao.upper()})\\n\")\n",
    "        for _, row in df.iterrows():\n",
    "            print(f\"{row['versiculo']}: {row['texto']}\")\n",
    "\n",
    "        # Exporta para Excel\n",
    "        nome_arquivo = f\"{versao}_{livro}_{capitulo}.xlsx\".replace(\" \", \"_\")\n",
    "        df.to_excel(nome_arquivo, index=False)\n",
    "        print(f\"\\n📄 Capítulo exportado para o arquivo: {nome_arquivo}\")\n",
    "\n",
    "def listar_livros(engine, versao):\n",
    "    tabela = f\"versao_{versao.lower()}\"\n",
    "    query = f\"\"\"\n",
    "    SELECT DISTINCT livro, abrev FROM {tabela}\n",
    "    ORDER BY livro\n",
    "    \"\"\"\n",
    "    df = pd.read_sql_query(query, engine)\n",
    "    if df.empty:\n",
    "        print(\"Nenhum livro encontrado.\")\n",
    "    else:\n",
    "        print(f\"\\nLivros da versão {versao.upper()}:\\n\")\n",
    "        print(df.to_string(index=False))\n",
    "\n",
    "# --- Menu Interativo ---\n",
    "def menu():\n",
    "    while True:\n",
    "        print(\"\\n--- Menu da Bíblia ---\")\n",
    "        print(\"1. Listar livros\")\n",
    "        print(\"2. Buscar versículo\")\n",
    "        print(\"3. Buscar capítulo\")\n",
    "        print(\"0. Sair\")\n",
    "        \n",
    "        opcao = input(\"Escolha uma opção: \")\n",
    "\n",
    "        if opcao == \"0\":\n",
    "            print(\"Saindo...\")\n",
    "            break\n",
    "\n",
    "        versao = input(\"Versão da Bíblia (aa, acf, nvi): \").strip().lower()\n",
    "        if versao not in [\"aa\", \"acf\", \"nvi\"]:\n",
    "            print(\"Versão inválida. Tente novamente.\")\n",
    "            continue\n",
    "\n",
    "        if opcao == \"1\":\n",
    "            listar_livros(engine, versao)\n",
    "\n",
    "        elif opcao == \"2\":\n",
    "            livro = input(\"Livro: \").strip()\n",
    "            capitulo = int(input(\"Capítulo: \"))\n",
    "            versiculo = int(input(\"Versículo: \"))\n",
    "            buscar_versiculo(engine, versao, livro, capitulo, versiculo)\n",
    "\n",
    "        elif opcao == \"3\":\n",
    "            livro = input(\"Livro: \").strip()\n",
    "            capitulo = int(input(\"Capítulo: \"))\n",
    "            buscar_capitulo(engine, versao, livro, capitulo)\n",
    "\n",
    "        else:\n",
    "            print(\"Opção inválida. Tente novamente.\")\n",
    "\n",
    "# Rodar menu\n",
    "if __name__ == \"__main__\":\n",
    "    menu()\n"
   ]
  },
  {
   "cell_type": "code",
   "execution_count": null,
   "id": "b97576e7-bb85-4d52-9525-66a879d2f08a",
   "metadata": {},
   "outputs": [],
   "source": []
  }
 ],
 "metadata": {
  "kernelspec": {
   "display_name": "Python 3 (ipykernel)",
   "language": "python",
   "name": "python3"
  },
  "language_info": {
   "codemirror_mode": {
    "name": "ipython",
    "version": 3
   },
   "file_extension": ".py",
   "mimetype": "text/x-python",
   "name": "python",
   "nbconvert_exporter": "python",
   "pygments_lexer": "ipython3",
   "version": "3.13.2"
  }
 },
 "nbformat": 4,
 "nbformat_minor": 5
}
