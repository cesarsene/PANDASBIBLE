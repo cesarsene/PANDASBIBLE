{
 "cells": [
  {
   "cell_type": "code",
   "execution_count": 90,
   "id": "d8a9644f-85e6-4af7-8b34-4b3ab9e61b14",
   "metadata": {},
   "outputs": [],
   "source": [
    "import pandas as pd\n",
    "import mysql.connector"
   ]
  },
  {
   "cell_type": "code",
   "execution_count": 91,
   "id": "89c182ed-7891-49e0-8256-b2068b648c79",
   "metadata": {},
   "outputs": [],
   "source": [
    "def export_bible_to_excel(book: str, chapter: int, version: str, filename: str = \"output.xlsx\"):\n",
    "    # Configuração do banco de dados\n",
    "    db_config = {\n",
    "        \"host\": \"localhost\",\n",
    "        \"user\": \"root\",\n",
    "        \"password\": \"Sen3180326#*#\",\n",
    "        \"database\": \"labstag\"\n",
    "    }\n",
    "       # Conectar ao banco de dados\n",
    "    conn = mysql.connector.connect(**db_config)\n",
    "    cursor = conn.cursor()\n",
    "    \n",
    "    # Tabelas das versões\n",
    "    versions = [\"aa\", \"acf\", \"nvi\"]\n",
    "    \n",
    "    all_data = []\n",
    "    \n",
    "    for version in versions:\n",
    "        table_name = f\"versao_{version}\"\n",
    "                # Consulta SQL para buscar tabela ou índices\n",
    "        query = f\"\"\"\n",
    "            SELECT * FROM versao_aa\n",
    "        \"\"\"\n",
    "        \n",
    "        cursor.execute(query)\n",
    "        data = cursor.fetchall()\n",
    "        \n",
    "        for row in data:\n",
    "            all_data.append([version, row[0], row[1], row[2]])"
   ]
  },
  {
   "cell_type": "code",
   "execution_count": 92,
   "id": "a00d5f91-a522-40cd-a384-1d579d2fd35f",
   "metadata": {},
   "outputs": [
    {
     "ename": "IndentationError",
     "evalue": "unexpected indent (3647330321.py, line 2)",
     "output_type": "error",
     "traceback": [
      "  \u001b[36mCell\u001b[39m\u001b[36m \u001b[39m\u001b[32mIn[92]\u001b[39m\u001b[32m, line 2\u001b[39m\n\u001b[31m    \u001b[39m\u001b[31mdf = pd.DataFrame(all_data, columns=[\"Versão\", \"Nome\", \"Abreviação\", \"Capítulos\"])\u001b[39m\n    ^\n\u001b[31mIndentationError\u001b[39m\u001b[31m:\u001b[39m unexpected indent\n"
     ]
    }
   ],
   "source": [
    "    # Criar DataFrame do Pandas\n",
    "    df = pd.DataFrame(all_data, columns=[\"Versão\", \"Nome\", \"Abreviação\", \"Capítulos\"])\n",
    "    \n",
    "    # Exportar para Excel\n",
    "    df.to_excel(filename, index=False)\n",
    "    \n",
    "    # Fechar conexão\n",
    "    cursor.close()\n",
    "    conn.close()\n",
    "    \n",
    "    print(f\"Arquivo {filename} exportado com sucesso!\")\n",
    "\n",
    "# Exemplo de uso:\n",
    "# export_bible_to_excel(\"Genesis\", 20)"
   ]
  },
  {
   "cell_type": "code",
   "execution_count": null,
   "id": "0c4885aa-55b2-4fb2-9af7-0156f604c16c",
   "metadata": {},
   "outputs": [],
   "source": []
  }
 ],
 "metadata": {
  "kernelspec": {
   "display_name": "Python 3 (ipykernel)",
   "language": "python",
   "name": "python3"
  },
  "language_info": {
   "codemirror_mode": {
    "name": "ipython",
    "version": 3
   },
   "file_extension": ".py",
   "mimetype": "text/x-python",
   "name": "python",
   "nbconvert_exporter": "python",
   "pygments_lexer": "ipython3",
   "version": "3.13.2"
  }
 },
 "nbformat": 4,
 "nbformat_minor": 5
}
